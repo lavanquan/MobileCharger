{
 "cells": [
  {
   "cell_type": "code",
   "execution_count": 15,
   "metadata": {},
   "outputs": [],
   "source": [
    "numNode = 10 # so luong node\n",
    "energy = 20 # nang luong ban dau cua node\n",
    "commRange = 40 # ban kinh node"
   ]
  },
  {
   "cell_type": "code",
   "execution_count": 16,
   "metadata": {},
   "outputs": [],
   "source": [
    "node_pos = [(10,10),(30,30),(50,50),(70,70),(90,90),\n",
    "           (10,30),(30,10),(30,50),(50,30),(50,70)] #vi tri node"
   ]
  },
  {
   "cell_type": "code",
   "execution_count": 17,
   "metadata": {},
   "outputs": [],
   "source": [
    "from pymote import *"
   ]
  },
  {
   "cell_type": "code",
   "execution_count": 5,
   "metadata": {},
   "outputs": [
    {
     "name": "stdout",
     "output_type": "stream",
     "text": [
      "WARNING [__init__.py]: Environment variable PYMOTE_SETTINGS_MODULE is undefined, using global_settings.\n"
     ]
    }
   ],
   "source": [
    "net = Network() #network"
   ]
  },
  {
   "cell_type": "code",
   "execution_count": 6,
   "metadata": {},
   "outputs": [],
   "source": [
    "prob = [3, 3, 4, 4, 4, 2, 2, 3, 2, 2] # tan suat sinh goi tin cua node"
   ]
  },
  {
   "cell_type": "markdown",
   "metadata": {},
   "source": [
    "sinh cac node cho network"
   ]
  },
  {
   "cell_type": "code",
   "execution_count": 7,
   "metadata": {},
   "outputs": [],
   "source": [
    "index = 0\n",
    "for node in node_pos:\n",
    "    net.add_node(pos=node,commRange=commRange, energy=energy, prob=prob[index])\n",
    "    index=index+1"
   ]
  },
  {
   "cell_type": "code",
   "execution_count": 8,
   "metadata": {},
   "outputs": [],
   "source": [
    "base = (80,80) # location of base"
   ]
  },
  {
   "cell_type": "code",
   "execution_count": 38,
   "metadata": {},
   "outputs": [],
   "source": [
    "# tinh khoang cach giua hai toa do bat ki"
   ]
  },
  {
   "cell_type": "code",
   "execution_count": 10,
   "metadata": {},
   "outputs": [
    {
     "name": "stdout",
     "output_type": "stream",
     "text": [
      "82.4621125124\n"
     ]
    }
   ],
   "source": [
    "import math\n",
    "def distance(node1, node2):\n",
    "    return math.sqrt((node1[0]-node2[0])*(node1[0]-node2[0])\n",
    "                    +(node1[1]-node2[1])*(node1[1]-node2[1]))\n",
    "\n",
    "print distance((50,100),(30,20))"
   ]
  },
  {
   "cell_type": "code",
   "execution_count": 10,
   "metadata": {},
   "outputs": [
    {
     "name": "stdout",
     "output_type": "stream",
     "text": [
      "[<Node id=2>, <Node id=6>, <Node id=7>]\n"
     ]
    }
   ],
   "source": [
    "print net.neighbors(net.nodes()[0])"
   ]
  },
  {
   "cell_type": "code",
   "execution_count": 39,
   "metadata": {},
   "outputs": [],
   "source": [
    "# xac dinh node se nhan goi tin quang ba"
   ]
  },
  {
   "cell_type": "code",
   "execution_count": 11,
   "metadata": {},
   "outputs": [
    {
     "name": "stdout",
     "output_type": "stream",
     "text": [
      "(80, 80)\n"
     ]
    }
   ],
   "source": [
    "def destinate(node):\n",
    "    minDis = distance(net.pos[node], base)\n",
    "    idNode = -1\n",
    "    if distance(net.pos[node], base) <= commRange:\n",
    "        idNode = base\n",
    "    else:\n",
    "        for nd in net.neighbors(node):\n",
    "            d = distance(net.pos[nd], base)\n",
    "            if d < minDis:\n",
    "                minDis = d\n",
    "                idNode = nd\n",
    "    return idNode\n",
    "\n",
    "print destinate(net.nodes()[9])"
   ]
  },
  {
   "cell_type": "code",
   "execution_count": 40,
   "metadata": {},
   "outputs": [],
   "source": [
    "# xac dinh duong di cua goi tin xuat phat tu node"
   ]
  },
  {
   "cell_type": "code",
   "execution_count": 12,
   "metadata": {},
   "outputs": [
    {
     "name": "stdout",
     "output_type": "stream",
     "text": [
      "[<Node id=6>, <Node id=8>, <Node id=10>]\n"
     ]
    }
   ],
   "source": [
    "def rounte(node):\n",
    "    path = [node]\n",
    "    if distance(net.pos[node], base) <= commRange:\n",
    "        return path\n",
    "    else:\n",
    "        temp = destinate(node)\n",
    "        if temp != node:\n",
    "            path.extend(rounte(temp))\n",
    "        return path\n",
    "print rounte(net.nodes()[5])"
   ]
  },
  {
   "cell_type": "code",
   "execution_count": 13,
   "metadata": {},
   "outputs": [],
   "source": [
    "# cac hang so tinh nang luong tieu thu khi truyen tin\n",
    "ER = 100*10**-9\n",
    "ET = 50*10**-9\n",
    "EFS = 10*10**-12\n",
    "EMP = 0.013*10**-12\n",
    "b = 160"
   ]
  },
  {
   "cell_type": "code",
   "execution_count": 42,
   "metadata": {},
   "outputs": [],
   "source": [
    "# nang luong mat mat khi gui goi tin"
   ]
  },
  {
   "cell_type": "code",
   "execution_count": 14,
   "metadata": {},
   "outputs": [],
   "source": [
    "def sendNode(send, receive):\n",
    "    d0 = math.sqrt(EFS/EMP)\n",
    "    d = 0\n",
    "    if receive == base:\n",
    "        d = distance(net.pos[send], base)\n",
    "    else:\n",
    "        d = distance(net.pos[send], net.pos[receive])\n",
    "    e_send = 0;\n",
    "    if d < d0:\n",
    "        e_send = ET + EFS * d**2\n",
    "    else:\n",
    "        e_send = ET + EMP * d**4\n",
    "    send.energy = send.energy - e_send * b\n",
    "    "
   ]
  },
  {
   "cell_type": "code",
   "execution_count": 43,
   "metadata": {},
   "outputs": [],
   "source": [
    "# nang luong mat mat khi nhan goi tin"
   ]
  },
  {
   "cell_type": "code",
   "execution_count": 15,
   "metadata": {},
   "outputs": [],
   "source": [
    "def receiveNode(receive):\n",
    "    receive.energy = receive.energy - ER * b"
   ]
  },
  {
   "cell_type": "code",
   "execution_count": null,
   "metadata": {},
   "outputs": [],
   "source": [
    "# kiem tra xem node co con song hay da chet"
   ]
  },
  {
   "cell_type": "code",
   "execution_count": 16,
   "metadata": {},
   "outputs": [],
   "source": [
    "THRESHOLD = 0.5\n",
    "def isDead(node):\n",
    "    if node.energy < THRESHOLD:\n",
    "        return True\n",
    "    else:\n",
    "        return False"
   ]
  },
  {
   "cell_type": "code",
   "execution_count": 44,
   "metadata": {},
   "outputs": [],
   "source": [
    "# ham gui tin tu mot node bat ki den base\n",
    "# sau nay chi can dung ham nay de mo phong qua trinh gui tin khi co\n",
    "# tinh den yeu to nang luong"
   ]
  },
  {
   "cell_type": "code",
   "execution_count": 17,
   "metadata": {},
   "outputs": [],
   "source": [
    "def send(node):\n",
    "    for nd in net.neighbors(node):\n",
    "        if isDead(nd):\n",
    "            net.remove_node(nd)\n",
    "    des = destinate(node)\n",
    "    if des != node and des != base:\n",
    "        sendNode(node, des)\n",
    "        for nd in net.neighbors(node):\n",
    "            receiveNode(des)\n",
    "        send(des)\n",
    "    elif des == base:\n",
    "        sendNode(node, base)\n",
    "\n"
   ]
  },
  {
   "cell_type": "code",
   "execution_count": null,
   "metadata": {},
   "outputs": [],
   "source": [
    "# cac ham ghi file"
   ]
  },
  {
   "cell_type": "code",
   "execution_count": 18,
   "metadata": {},
   "outputs": [
    {
     "name": "stdout",
     "output_type": "stream",
     "text": [
      "[<Node id=1>, <Node id=2>, <Node id=3>, <Node id=4>, <Node id=5>, <Node id=6>, <Node id=7>, <Node id=8>, <Node id=9>, <Node id=10>]\n"
     ]
    }
   ],
   "source": [
    "filename = \"log_file.csv\"\n",
    "fieldheader = []\n",
    "for node in net.nodes():\n",
    "    fieldheader.append(node)\n",
    "print fieldheader"
   ]
  },
  {
   "cell_type": "code",
   "execution_count": 19,
   "metadata": {},
   "outputs": [],
   "source": [
    "def writeHeader(filename):\n",
    "    import csv\n",
    "    with open(filename, mode='a') as csv_file:\n",
    "        writer = csv.DictWriter(csv_file, fieldnames=fieldheader)\n",
    "        writer.writeheader()\n",
    "    csv_file.close()"
   ]
  },
  {
   "cell_type": "code",
   "execution_count": 20,
   "metadata": {},
   "outputs": [],
   "source": [
    "def write(filename):\n",
    "    import csv\n",
    "    with open(filename, mode='a') as csv_file:\n",
    "        writer = csv.DictWriter(csv_file, fieldnames=fieldheader)\n",
    "        row={}\n",
    "        for node in net.nodes():\n",
    "            if isDead(node) == True:\n",
    "                row[node] = 0\n",
    "            else:\n",
    "                row[node] = node.energy\n",
    "        writer.writerow(row)\n",
    "    csv_file.close()"
   ]
  },
  {
   "cell_type": "markdown",
   "metadata": {},
   "source": [
    "bien flag dung de nhan tin hieu sac tu charger, neu flag = true co nghia la network dang trong giai doan charge, ket thuc qua trinh thi bien flag duoc gan ve false"
   ]
  },
  {
   "cell_type": "code",
   "execution_count": 2,
   "metadata": {},
   "outputs": [],
   "source": [
    "flag = False\n",
    "velocity = 50\n",
    "chargeRange = 50\n",
    "charge_pos = [(10, 50), (90, 50)]"
   ]
  },
  {
   "cell_type": "code",
   "execution_count": 22,
   "metadata": {},
   "outputs": [],
   "source": [
    "# ham nay thuc hien uoc luong thoi gian sac cua tung node\n",
    "def calChargeTime():\n",
    "    T=500\n",
    "    chargeTime = [5, 7]\n",
    "    return T, chargeTime"
   ]
  },
  {
   "cell_type": "code",
   "execution_count": 24,
   "metadata": {},
   "outputs": [],
   "source": [
    "alpha = 50\n",
    "beta = 10\n",
    "# ham nay tinh toan xem tai thoi diem t thi charger se dung o dau\n",
    "# dong thoi thuc hien sac cho tat ca cac node lan can cua position\n",
    "def chargePerSec(t, timeStart, charge):\n",
    "    index = -1\n",
    "    for i in range(len(charge)):\n",
    "        if t > timeStart+sum(charge[:i]) and t <= timeStart+sum(charge[:i+1]):\n",
    "            index = i\n",
    "    if t - timeStart < 1:\n",
    "        for node in net.nodes():\n",
    "            d = distance(net.pos[node], charge_pos[index])\n",
    "            if d<=chargeRange:\n",
    "                node.energy = node.energy + alpha / ((d+beta)**2) * (t - timeStart)\n",
    "    elif timeStart + sum(charge) - t < 1:\n",
    "        for node in net.nodes():\n",
    "            d = distance(net.pos[node], charge_pos[index])\n",
    "            if d<=chargeRange:\n",
    "                node.energy = node.energy + alpha / ((d+beta)**2) * (timeStart + sum(charge) - t)\n",
    "    else:\n",
    "        for node in net.nodes():\n",
    "            d = distance(net.pos[node], charge_pos[index])\n",
    "            if d <= chargeRange:\n",
    "                node.energy = node.energy + alpha / ((d+beta)**2)\n",
    "            \n",
    "chargePerSec(12, 10, [3,5])"
   ]
  },
  {
   "cell_type": "code",
   "execution_count": 25,
   "metadata": {},
   "outputs": [],
   "source": [
    "# phuong thuc truyen goi tin va thong tin nang luong cua\n",
    "# tat ca cac node trong mang\n",
    "def communicate(t, delta):\n",
    "    for node in net.nodes():\n",
    "        if t % node.prob==0:\n",
    "            send(node)\n",
    "    if t % delta == 0:\n",
    "        for node in net.nodes():\n",
    "            send(node)"
   ]
  },
  {
   "cell_type": "code",
   "execution_count": 35,
   "metadata": {},
   "outputs": [],
   "source": [
    "def sim(MaxTime, delta):\n",
    "    import math\n",
    "    \n",
    "    t = 1\n",
    "    writeHeader(filename)\n",
    "    \n",
    "    timeStart = 0 # thoi gian bat dau sac\n",
    "    timeStop = 0 # thoi gian ket thuc sac\n",
    "    timeSleep = 0 # thoi gian charger nghi tai base\n",
    "    flag = False # flag dung de thong bao la mang dang duoc sac\n",
    "    dis_charge_pos = sum([distance(charge_pos[i], charge_pos[i+1]) for i in range(len(charge_pos)-1)])\n",
    "    while t <= MaxTime:\n",
    "        if t == delta:\n",
    "            T, chargeTime = calChargeTime()\n",
    "            timeStart = timeSleep + T + distance(charge_pos[0],(0,0))/velocity\n",
    "            timeStop = timeStart + sum(chargeTime) + dis_charge_pos/velocity\n",
    "            timeSleep = timeStop + distance(charge_pos[-1], (0,0))/velocity\n",
    "        if t == math.ceil(timeStart):\n",
    "            flag = True\n",
    "        elif t == math.ceil(timeStop):\n",
    "            flag = False\n",
    "        if t == math.ceil(timeSleep):\n",
    "            T, chargeTime = calChargeTime()\n",
    "            timeStart = timeSleep + T + distance(charge_pos[0],(0,0))/velocity\n",
    "            timeStop = timeStart + sum(chargeTime) + dis_charge_pos/velocity\n",
    "            timeSleep = timeStop + distance(charge_pos[-1], (0,0))/velocity\n",
    "        if flag == True:\n",
    "            chargePerSec(t, timeStart, chargeTime)\n",
    "        communicate(t, delta)\n",
    "        if t % delta == 0:\n",
    "            write(filename)\n",
    "        if flag == True:\n",
    "            print flag, t\n",
    "        t = t + 1"
   ]
  },
  {
   "cell_type": "code",
   "execution_count": 37,
   "metadata": {},
   "outputs": [
    {
     "name": "stdout",
     "output_type": "stream",
     "text": [
      "True 502\n",
      "True 503\n",
      "True 504\n",
      "True 505\n",
      "True 506\n",
      "True 507\n",
      "True 508\n",
      "True 509\n",
      "True 510\n",
      "True 511\n",
      "True 512\n",
      "True 513\n",
      "True 514\n",
      "True 1018\n",
      "True 1019\n",
      "True 1020\n",
      "True 1021\n",
      "True 1022\n",
      "True 1023\n",
      "True 1024\n",
      "True 1025\n",
      "True 1026\n",
      "True 1027\n",
      "True 1028\n",
      "True 1029\n",
      "True 1030\n",
      "True 1031\n",
      "True 1535\n",
      "True 1536\n",
      "True 1537\n",
      "True 1538\n",
      "True 1539\n",
      "True 1540\n",
      "True 1541\n",
      "True 1542\n",
      "True 1543\n",
      "True 1544\n",
      "True 1545\n",
      "True 1546\n",
      "True 1547\n"
     ]
    }
   ],
   "source": [
    "delta = 100\n",
    "MaxTime = 2000\n",
    "sim(MaxTime, alpha)"
   ]
  },
  {
   "cell_type": "code",
   "execution_count": 14,
   "metadata": {},
   "outputs": [
    {
     "name": "stdout",
     "output_type": "stream",
     "text": [
      "[1.019803902718557, 1.6, 2.0591260281974]\n"
     ]
    }
   ],
   "source": [
    "chargePos_extend = [(0,0)]\n",
    "chargePos_extend.extend(charge_pos)\n",
    "chargePos_extend.extend([(0,0)])\n",
    "\n",
    "time_move = [distance(chargePos_extend[i], chargePos_extend[i+1])/velocity for i in range(len(chargePos_extend)-1)]\n",
    "print time_move"
   ]
  },
  {
   "cell_type": "code",
   "execution_count": 20,
   "metadata": {},
   "outputs": [
    {
     "name": "stdout",
     "output_type": "stream",
     "text": [
      "[0.5, 0.5, 0.5, 0.5, 0.5, 0.5, 0.5, 0.5, 0.5, 0.5]\n"
     ]
    }
   ],
   "source": [
    "# nang luong tieu thu trung binh\n",
    "ener_per_second = [0.5 for i in range(numNode)]\n",
    "print ener_per_second"
   ]
  },
  {
   "cell_type": "code",
   "execution_count": 21,
   "metadata": {},
   "outputs": [
    {
     "name": "stdout",
     "output_type": "stream",
     "text": [
      "[10.0, 10.0, 10.0, 10.0, 10.0, 10.0, 10.0, 10.0, 10.0, 10.0]\n"
     ]
    }
   ],
   "source": [
    "# nang luong con lai cua moi node\n",
    "ener_remain = [10.0 for i in range(numNode)]\n",
    "print ener_remain"
   ]
  },
  {
   "cell_type": "code",
   "execution_count": 1,
   "metadata": {},
   "outputs": [
    {
     "ename": "ImportError",
     "evalue": "libCoinUtils.so.3: cannot open shared object file: No such file or directory",
     "output_type": "error",
     "traceback": [
      "\u001b[0;31m---------------------------------------------------------------------------\u001b[0m",
      "\u001b[0;31mImportError\u001b[0m                               Traceback (most recent call last)",
      "\u001b[0;32m<ipython-input-1-796a9da8ce84>\u001b[0m in \u001b[0;36m<module>\u001b[0;34m()\u001b[0m\n\u001b[1;32m      1\u001b[0m \u001b[0;32mimport\u001b[0m \u001b[0mnumpy\u001b[0m \u001b[0;32mas\u001b[0m \u001b[0mnp\u001b[0m\u001b[0;34m\u001b[0m\u001b[0m\n\u001b[0;32m----> 2\u001b[0;31m \u001b[0;32mfrom\u001b[0m \u001b[0mcylp\u001b[0m\u001b[0;34m.\u001b[0m\u001b[0mcy\u001b[0m \u001b[0;32mimport\u001b[0m \u001b[0mCyClpSimplex\u001b[0m\u001b[0;34m\u001b[0m\u001b[0m\n\u001b[0m\u001b[1;32m      3\u001b[0m \u001b[0;32mfrom\u001b[0m \u001b[0mcylp\u001b[0m\u001b[0;34m.\u001b[0m\u001b[0mpy\u001b[0m\u001b[0;34m.\u001b[0m\u001b[0mmodeling\u001b[0m\u001b[0;34m.\u001b[0m\u001b[0mCyLPModel\u001b[0m \u001b[0;32mimport\u001b[0m \u001b[0mCyLPArray\u001b[0m\u001b[0;34m\u001b[0m\u001b[0m\n",
      "\u001b[0;32m/home/laquan/pymote_env/local/lib/python2.7/site-packages/cylp/cy/__init__.py\u001b[0m in \u001b[0;36m<module>\u001b[0;34m()\u001b[0m\n\u001b[0;32m----> 1\u001b[0;31m \u001b[0;32mfrom\u001b[0m \u001b[0mCyCoinIndexedVector\u001b[0m \u001b[0;32mimport\u001b[0m \u001b[0mCyCoinIndexedVector\u001b[0m\u001b[0;34m\u001b[0m\u001b[0m\n\u001b[0m\u001b[1;32m      2\u001b[0m \u001b[0;32mfrom\u001b[0m \u001b[0mCyClpSimplex\u001b[0m \u001b[0;32mimport\u001b[0m \u001b[0mCyClpSimplex\u001b[0m\u001b[0;34m\u001b[0m\u001b[0m\n\u001b[1;32m      3\u001b[0m \u001b[0;32mfrom\u001b[0m \u001b[0mCyCbcNode\u001b[0m \u001b[0;32mimport\u001b[0m \u001b[0mCyCbcNode\u001b[0m\u001b[0;34m\u001b[0m\u001b[0m\n\u001b[1;32m      4\u001b[0m \u001b[0;32mfrom\u001b[0m \u001b[0mCyClpPrimalColumnPivotBase\u001b[0m \u001b[0;32mimport\u001b[0m \u001b[0mCyClpPrimalColumnPivotBase\u001b[0m\u001b[0;34m\u001b[0m\u001b[0m\n\u001b[1;32m      5\u001b[0m \u001b[0;32mfrom\u001b[0m \u001b[0mCyCoinMpsIO\u001b[0m \u001b[0;32mimport\u001b[0m \u001b[0mCyCoinMpsIO\u001b[0m\u001b[0;34m\u001b[0m\u001b[0m\n",
      "\u001b[0;31mImportError\u001b[0m: libCoinUtils.so.3: cannot open shared object file: No such file or directory"
     ]
    }
   ],
   "source": [
    "import numpy as np\n",
    "from cylp.cy import CyClpSimplex\n",
    "from cylp.py.modeling.CyLPModel import CyLPArray"
   ]
  }
 ],
 "metadata": {
  "kernelspec": {
   "display_name": "Python 2",
   "language": "python",
   "name": "python2"
  },
  "language_info": {
   "codemirror_mode": {
    "name": "ipython",
    "version": 2
   },
   "file_extension": ".py",
   "mimetype": "text/x-python",
   "name": "python",
   "nbconvert_exporter": "python",
   "pygments_lexer": "ipython2",
   "version": "2.7.12"
  }
 },
 "nbformat": 4,
 "nbformat_minor": 2
}
